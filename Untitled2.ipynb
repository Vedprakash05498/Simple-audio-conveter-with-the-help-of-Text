{
  "nbformat": 4,
  "nbformat_minor": 0,
  "metadata": {
    "colab": {
      "name": "Untitled2.ipynb",
      "provenance": []
    },
    "kernelspec": {
      "name": "python3",
      "display_name": "Python 3"
    }
  },
  "cells": [
    {
      "cell_type": "code",
      "metadata": {
        "id": "9ZEBraoh9tRB",
        "colab_type": "code",
        "outputId": "8223626c-ca4d-4328-8f47-232bf3378eec",
        "colab": {
          "base_uri": "https://localhost:8080/",
          "height": 360
        }
      },
      "source": [
        "pip install gtts"
      ],
      "execution_count": 3,
      "outputs": [
        {
          "output_type": "stream",
          "text": [
            "Collecting gtts\n",
            "  Downloading https://files.pythonhosted.org/packages/a1/0c/4ca77eca3b739a4a08360930643f58d714e302fee0d2f8c654e67d9af8e7/gTTS-2.1.1-py3-none-any.whl\n",
            "Requirement already satisfied: click in /usr/local/lib/python3.6/dist-packages (from gtts) (7.1.2)\n",
            "Requirement already satisfied: requests in /usr/local/lib/python3.6/dist-packages (from gtts) (2.23.0)\n",
            "Collecting gtts-token>=1.1.3\n",
            "  Downloading https://files.pythonhosted.org/packages/e7/25/ca6e9cd3275bfc3097fe6b06cc31db6d3dfaf32e032e0f73fead9c9a03ce/gTTS-token-1.1.3.tar.gz\n",
            "Requirement already satisfied: six in /usr/local/lib/python3.6/dist-packages (from gtts) (1.12.0)\n",
            "Requirement already satisfied: beautifulsoup4 in /usr/local/lib/python3.6/dist-packages (from gtts) (4.6.3)\n",
            "Requirement already satisfied: certifi>=2017.4.17 in /usr/local/lib/python3.6/dist-packages (from requests->gtts) (2020.4.5.1)\n",
            "Requirement already satisfied: urllib3!=1.25.0,!=1.25.1,<1.26,>=1.21.1 in /usr/local/lib/python3.6/dist-packages (from requests->gtts) (1.24.3)\n",
            "Requirement already satisfied: chardet<4,>=3.0.2 in /usr/local/lib/python3.6/dist-packages (from requests->gtts) (3.0.4)\n",
            "Requirement already satisfied: idna<3,>=2.5 in /usr/local/lib/python3.6/dist-packages (from requests->gtts) (2.9)\n",
            "Building wheels for collected packages: gtts-token\n",
            "  Building wheel for gtts-token (setup.py) ... \u001b[?25l\u001b[?25hdone\n",
            "  Created wheel for gtts-token: filename=gTTS_token-1.1.3-cp36-none-any.whl size=4097 sha256=8ff7edac3570ddbdcb2dfcf818ac6ecda4bd343d02ec2fb4bc02b57f1d801981\n",
            "  Stored in directory: /root/.cache/pip/wheels/dd/11/61/33f7e51bf545e910552b2255eead2a7cd8ef54064b46dceb34\n",
            "Successfully built gtts-token\n",
            "Installing collected packages: gtts-token, gtts\n",
            "Successfully installed gtts-2.1.1 gtts-token-1.1.3\n"
          ],
          "name": "stdout"
        }
      ]
    },
    {
      "cell_type": "code",
      "metadata": {
        "id": "fCkAHYHR-oIa",
        "colab_type": "code",
        "outputId": "1bf4499a-ef3e-4b98-d3c8-cc476f020919",
        "colab": {
          "base_uri": "https://localhost:8080/",
          "height": 75
        }
      },
      "source": [
        "from gtts import gTTS\n",
        "mytext=\"Hello,my name is Ved Prakash Chaubey \"\n",
        "language='en'\n",
        "my=gTTS(text=mytext,lang=language,slow=False)\n",
        "my.save(\"ved.mp3\")\n",
        "path=\"ved.mp3\"\n",
        "import IPython.display\n",
        "IPython.display.Audio(path)"
      ],
      "execution_count": 7,
      "outputs": [
        {
          "output_type": "execute_result",
          "data": {
            "text/html": [
              "\n",
              "                <audio controls=\"controls\" >\n",
              "                    <source src=\"data:audio/mpeg;base64,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\" type=\"audio/mpeg\" />\n",
              "                    Your browser does not support the audio element.\n",
              "                </audio>\n",
              "              "
            ],
            "text/plain": [
              "<IPython.lib.display.Audio object>"
            ]
          },
          "metadata": {
            "tags": []
          },
          "execution_count": 7
        }
      ]
    },
    {
      "cell_type": "code",
      "metadata": {
        "id": "nfUU_wCazivK",
        "colab_type": "code",
        "colab": {}
      },
      "source": [
        ""
      ],
      "execution_count": 0,
      "outputs": []
    }
  ]
}